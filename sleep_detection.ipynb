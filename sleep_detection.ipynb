{
 "cells": [
  {
   "cell_type": "code",
   "execution_count": 25,
   "metadata": {},
   "outputs": [],
   "source": [
    "from scipy.spatial import distance as dist\n",
    "from imutils import face_utils\n",
    "from sklearn.metrics import ConfusionMatrixDisplay\n",
    "import matplotlib.pyplot as plt\n",
    "import imutils\n",
    "import numpy as np\n",
    "import time\n",
    "import dlib\n",
    "import cv2\n",
    "import os"
   ]
  },
  {
   "cell_type": "code",
   "execution_count": 26,
   "metadata": {},
   "outputs": [],
   "source": [
    "# get the base directory\n",
    "BASE_PATH = os.getcwd()"
   ]
  },
  {
   "cell_type": "code",
   "execution_count": 27,
   "metadata": {},
   "outputs": [],
   "source": [
    "def eye_aspect_ratio(eye):\n",
    "\t# compute the euclidean distances between the two sets of\n",
    "\t# vertical eye landmarks (x, y)-coordinates\n",
    "\tA = dist.euclidean(eye[1], eye[5])\n",
    "\tB = dist.euclidean(eye[2], eye[4])\n",
    "\t# compute the euclidean distance between the horizontal\n",
    "\t# eye landmark (x, y)-coordinates\n",
    "\tC = dist.euclidean(eye[0], eye[3])\n",
    "\t# compute the eye aspect ratio\n",
    "\tear = (A + B) / (2.0 * C)\n",
    "\t# return the eye aspect ratio\n",
    "\treturn ear"
   ]
  },
  {
   "cell_type": "code",
   "execution_count": 28,
   "metadata": {},
   "outputs": [
    {
     "name": "stdout",
     "output_type": "stream",
     "text": [
      "[INFO] loading facial landmark predictor...\n"
     ]
    }
   ],
   "source": [
    "# initialize dlib's face detector (HOG-based) and then create\n",
    "# the facial landmark predictor\n",
    "print(\"[INFO] loading facial landmark predictor...\")\n",
    "detector = dlib.get_frontal_face_detector()\n",
    "predictor = dlib.shape_predictor('shape_predictor_68_face_landmarks.dat')\n",
    "\n",
    "# grab the indexes of the facial landmarks for the left and\n",
    "# right eye, respectively\n",
    "(lStart, lEnd) = face_utils.FACIAL_LANDMARKS_IDXS[\"left_eye\"]\n",
    "(rStart, rEnd) = face_utils.FACIAL_LANDMARKS_IDXS[\"right_eye\"]"
   ]
  },
  {
   "cell_type": "code",
   "execution_count": 29,
   "metadata": {},
   "outputs": [],
   "source": [
    "def sleep_detect(FILENAME, eye_ar_thresh, eye_ar_consec_frames):\n",
    "    # start the video stream thread\n",
    "\tprint(f'[INFO] processing video {FILENAME}')\n",
    "\tvs = cv2.VideoCapture(FILENAME)\n",
    "\n",
    "\tif (vs.isOpened() == False):\n",
    "\t\tprint(\"Error opening video file\")\n",
    "\n",
    "\ttime.sleep(1.0)\n",
    "\n",
    "\t# initialize the frame counters\n",
    "\tcounter = 0\n",
    "\tframes_slept = 0\n",
    "\tframes_awake = 0\n",
    "\n",
    "\t# loop over frames from the video stream\n",
    "\twhile True:\n",
    "\t\t# grab the frame from the threaded video file stream\n",
    "\t\tret, frame = vs.read()\n",
    "\t\t# if no frames has been grabbed break\n",
    "\t\tif ret == False:\n",
    "\t\t\tbreak\n",
    "\t\t# Resize frame\n",
    "\t\tframe = imutils.resize(frame, width=480)\n",
    "\t\t# convert frame to grayscale channels\n",
    "\t\tgray = cv2.cvtColor(frame, cv2.COLOR_BGR2GRAY)\n",
    "\t\t# detect faces in the grayscale frame\n",
    "\t\trects = detector(gray, 0)\n",
    "\n",
    "\t\t# loop over the face detections\n",
    "\t\tfor rect in rects:\n",
    "\t\t\t# determine the facial landmarks for the face region, then\n",
    "\t\t\t# convert the facial landmark (x, y)-coordinates to a NumPy\n",
    "\t\t\t# array\n",
    "\t\t\tshape = predictor(gray, rect)\n",
    "\t\t\tshape = face_utils.shape_to_np(shape)\n",
    "\t\t\t# extract the left and right eye coordinates, then use the\n",
    "\t\t\t# coordinates to compute the eye aspect ratio for both eyes\n",
    "\t\t\tleftEye = shape[lStart:lEnd]\n",
    "\t\t\trightEye = shape[rStart:rEnd]\n",
    "\t\t\tleftEAR = eye_aspect_ratio(leftEye)\n",
    "\t\t\trightEAR = eye_aspect_ratio(rightEye)\n",
    "\t\t\t# average the eye aspect ratio together for both eyes\n",
    "\t\t\tear = (leftEAR + rightEAR) / 2.0\n",
    "\n",
    "\t\t\t# compute the convex hull for the left and right eye, then\n",
    "\t\t\t# visualize each of the eyes\n",
    "\t\t\tleftEyeHull = cv2.convexHull(leftEye)\n",
    "\t\t\trightEyeHull = cv2.convexHull(rightEye)\n",
    "\t\t\tcv2.drawContours(frame, [leftEyeHull], -1, (0, 255, 0), 1)\n",
    "\t\t\tcv2.drawContours(frame, [rightEyeHull], -1, (0, 255, 0), 1)\n",
    "\n",
    "\t\t\t# check to see if the eye aspect ratio is below the blink\n",
    "\t\t\t# threshold, and if so, increment the blink frame counter\n",
    "\t\t\tif ear < eye_ar_thresh:\n",
    "\t\t\t\tcounter += 1\n",
    "\t\t\telse:\n",
    "\t\t\t\t# reset the eye frame counter\n",
    "\t\t\t\tcounter = 0\n",
    "\n",
    "\t\t\tif counter >= eye_ar_consec_frames:\n",
    "\t\t\t\tframes_slept += 1\n",
    "\t\t\telse: \n",
    "\t\t\t\tframes_awake += 1\n",
    "\n",
    "\tvs.release()\t\t\t\n",
    "\treturn frames_slept > frames_awake"
   ]
  },
  {
   "cell_type": "code",
   "execution_count": 30,
   "metadata": {},
   "outputs": [],
   "source": [
    "EXAMPLES_PATH = os.path.join(BASE_PATH, 'sleep_dataset')\n",
    "AWAKE_PATH = os.path.join(EXAMPLES_PATH, 'awake')\n",
    "SLEEP_PATH = os.path.join(EXAMPLES_PATH, 'sleep')"
   ]
  },
  {
   "cell_type": "code",
   "execution_count": 32,
   "metadata": {},
   "outputs": [
    {
     "name": "stdout",
     "output_type": "stream",
     "text": [
      "[INFO] processing video c:\\Users\\lm555\\Desktop\\sleep_detection\\sleep_dataset\\awake\\1.mp4\n",
      "[INFO] processing video c:\\Users\\lm555\\Desktop\\sleep_detection\\sleep_dataset\\awake\\2.mp4\n",
      "[INFO] processing video c:\\Users\\lm555\\Desktop\\sleep_detection\\sleep_dataset\\awake\\3.mp4\n",
      "[INFO] processing video c:\\Users\\lm555\\Desktop\\sleep_detection\\sleep_dataset\\awake\\4.mp4\n",
      "[INFO] processing video c:\\Users\\lm555\\Desktop\\sleep_detection\\sleep_dataset\\awake\\5.mp4\n",
      "[INFO] processing video c:\\Users\\lm555\\Desktop\\sleep_detection\\sleep_dataset\\awake\\6.mp4\n",
      "[INFO] processing video c:\\Users\\lm555\\Desktop\\sleep_detection\\sleep_dataset\\awake\\7.mp4\n",
      "[INFO] processing video c:\\Users\\lm555\\Desktop\\sleep_detection\\sleep_dataset\\awake\\8.mp4\n",
      "[INFO] processing video c:\\Users\\lm555\\Desktop\\sleep_detection\\sleep_dataset\\awake\\9.mp4\n",
      "[INFO] processing video c:\\Users\\lm555\\Desktop\\sleep_detection\\sleep_dataset\\sleep\\1.mp4\n",
      "[INFO] processing video c:\\Users\\lm555\\Desktop\\sleep_detection\\sleep_dataset\\sleep\\2.mp4\n",
      "[INFO] processing video c:\\Users\\lm555\\Desktop\\sleep_detection\\sleep_dataset\\sleep\\3.mp4\n",
      "[INFO] processing video c:\\Users\\lm555\\Desktop\\sleep_detection\\sleep_dataset\\sleep\\4.mp4\n",
      "[INFO] processing video c:\\Users\\lm555\\Desktop\\sleep_detection\\sleep_dataset\\sleep\\5.mp4\n",
      "[INFO] processing video c:\\Users\\lm555\\Desktop\\sleep_detection\\sleep_dataset\\sleep\\6.mp4\n",
      "[INFO] processing video c:\\Users\\lm555\\Desktop\\sleep_detection\\sleep_dataset\\sleep\\7.mp4\n",
      "[INFO] processing video c:\\Users\\lm555\\Desktop\\sleep_detection\\sleep_dataset\\sleep\\8.mp4\n",
      "[INFO] processing video c:\\Users\\lm555\\Desktop\\sleep_detection\\sleep_dataset\\sleep\\9.mp4\n"
     ]
    },
    {
     "data": {
      "image/png": "[encoded data removed]",
      "text/plain": [
       "<Figure size 432x288 with 2 Axes>"
      ]
     },
     "metadata": {
      "needs_background": "light"
     },
     "output_type": "display_data"
    },
    {
     "name": "stdout",
     "output_type": "stream",
     "text": [
      "accuracy = 0.7222222222222222\n",
      "precision = 0.75\n",
      "recall = 0.6666666666666666\n",
      "f1 = 0.7058823529411765\n"
     ]
    }
   ],
   "source": [
    "# define two constants, one for the eye aspect ratio to indicate\n",
    "# closed eye and then a second constant for the number of consecutive\n",
    "# frames the eye must be below the threshold \n",
    "EYE_AR_THRESH = 0.3\n",
    "EYE_AR_CONSEC_FRAMES = 30\n",
    "\n",
    "tp = fp = fn = tn = 0\n",
    "\n",
    "for file in os.listdir(AWAKE_PATH):\n",
    "    path = os.path.join(AWAKE_PATH, file)\n",
    "    if sleep_detect(path, EYE_AR_THRESH, EYE_AR_CONSEC_FRAMES) == False:\n",
    "        tn += 1\n",
    "    else:\n",
    "        fp += 1\n",
    "for file in os.listdir(SLEEP_PATH):\n",
    "    path = os.path.join(SLEEP_PATH, file)\n",
    "    if sleep_detect(path, EYE_AR_THRESH, EYE_AR_CONSEC_FRAMES) == True:\n",
    "        tp += 1\n",
    "    else:\n",
    "        fn += 1\n",
    "\n",
    "cm = np.array(\n",
    "    [\n",
    "        [tp, fp],\n",
    "        [fn, tn]\n",
    "    ]\n",
    ")\n",
    "\n",
    "labels = [\"slept\", \"awake\"]\n",
    "\n",
    "disp = ConfusionMatrixDisplay(confusion_matrix=cm,\n",
    "                               display_labels=labels)\n",
    "                               \n",
    "disp.plot()\n",
    "plt.show()\n",
    "\n",
    "acc = (tp + tn) / (tp + fn + tn + fp)\n",
    "pre = tp / (tp + fp)\n",
    "rec = tp / (tp + fn)\n",
    "f1 = (2 * pre * rec) / (pre + rec)\n",
    "\n",
    "print(f'accuracy = {acc}')\n",
    "print(f'precision = {pre}')\n",
    "print(f'recall = {rec}')\n",
    "print(f'f1 = {f1}')\n"
   ]
  },
  {
   "cell_type": "code",
   "execution_count": 33,
   "metadata": {},
   "outputs": [
    {
     "name": "stdout",
     "output_type": "stream",
     "text": [
      "[INFO] processing video c:\\Users\\lm555\\Desktop\\sleep_detection\\sleep_dataset\\awake\\1.mp4\n",
      "[INFO] processing video c:\\Users\\lm555\\Desktop\\sleep_detection\\sleep_dataset\\awake\\2.mp4\n",
      "[INFO] processing video c:\\Users\\lm555\\Desktop\\sleep_detection\\sleep_dataset\\awake\\3.mp4\n",
      "[INFO] processing video c:\\Users\\lm555\\Desktop\\sleep_detection\\sleep_dataset\\awake\\4.mp4\n",
      "[INFO] processing video c:\\Users\\lm555\\Desktop\\sleep_detection\\sleep_dataset\\awake\\5.mp4\n",
      "[INFO] processing video c:\\Users\\lm555\\Desktop\\sleep_detection\\sleep_dataset\\awake\\6.mp4\n",
      "[INFO] processing video c:\\Users\\lm555\\Desktop\\sleep_detection\\sleep_dataset\\awake\\7.mp4\n",
      "[INFO] processing video c:\\Users\\lm555\\Desktop\\sleep_detection\\sleep_dataset\\awake\\8.mp4\n",
      "[INFO] processing video c:\\Users\\lm555\\Desktop\\sleep_detection\\sleep_dataset\\awake\\9.mp4\n",
      "[INFO] processing video c:\\Users\\lm555\\Desktop\\sleep_detection\\sleep_dataset\\sleep\\1.mp4\n",
      "[INFO] processing video c:\\Users\\lm555\\Desktop\\sleep_detection\\sleep_dataset\\sleep\\2.mp4\n",
      "[INFO] processing video c:\\Users\\lm555\\Desktop\\sleep_detection\\sleep_dataset\\sleep\\3.mp4\n",
      "[INFO] processing video c:\\Users\\lm555\\Desktop\\sleep_detection\\sleep_dataset\\sleep\\4.mp4\n",
      "[INFO] processing video c:\\Users\\lm555\\Desktop\\sleep_detection\\sleep_dataset\\sleep\\5.mp4\n",
      "[INFO] processing video c:\\Users\\lm555\\Desktop\\sleep_detection\\sleep_dataset\\sleep\\6.mp4\n",
      "[INFO] processing video c:\\Users\\lm555\\Desktop\\sleep_detection\\sleep_dataset\\sleep\\7.mp4\n",
      "[INFO] processing video c:\\Users\\lm555\\Desktop\\sleep_detection\\sleep_dataset\\sleep\\8.mp4\n",
      "[INFO] processing video c:\\Users\\lm555\\Desktop\\sleep_detection\\sleep_dataset\\sleep\\9.mp4\n"
     ]
    },
    {
     "data": {
      "image/png": "[encoded data removed]",
      "text/plain": [
       "<Figure size 432x288 with 2 Axes>"
      ]
     },
     "metadata": {
      "needs_background": "light"
     },
     "output_type": "display_data"
    },
    {
     "name": "stdout",
     "output_type": "stream",
     "text": [
      "accuracy = 0.6666666666666666\n",
      "precision = 1.0\n",
      "recall = 0.3333333333333333\n",
      "f1 = 0.5\n"
     ]
    }
   ],
   "source": [
    "EYE_AR_THRESH = 0.2\n",
    "EYE_AR_CONSEC_FRAMES = 30\n",
    "\n",
    "tp = fp = fn = tn = 0\n",
    "\n",
    "for file in os.listdir(AWAKE_PATH):\n",
    "    path = os.path.join(AWAKE_PATH, file)\n",
    "    if sleep_detect(path, EYE_AR_THRESH, EYE_AR_CONSEC_FRAMES) == False:\n",
    "        tn += 1\n",
    "    else:\n",
    "        fp += 1\n",
    "for file in os.listdir(SLEEP_PATH):\n",
    "    path = os.path.join(SLEEP_PATH, file)\n",
    "    if sleep_detect(path, EYE_AR_THRESH, EYE_AR_CONSEC_FRAMES) == True:\n",
    "        tp += 1\n",
    "    else:\n",
    "        fn += 1\n",
    "\n",
    "cm = np.array(\n",
    "    [\n",
    "        [tp, fp],\n",
    "        [fn, tn]\n",
    "    ]\n",
    ")\n",
    "\n",
    "labels = [\"slept\", \"awake\"]\n",
    "\n",
    "disp = ConfusionMatrixDisplay(confusion_matrix=cm,\n",
    "                               display_labels=labels)\n",
    "                               \n",
    "disp.plot()\n",
    "plt.show()\n",
    "\n",
    "acc = (tp + tn) / (tp + fn + tn + fp)\n",
    "pre = tp / (tp + fp)\n",
    "rec = tp / (tp + fn)\n",
    "f1 = (2 * pre * rec) / (pre + rec)\n",
    "\n",
    "print(f'accuracy = {acc}')\n",
    "print(f'precision = {pre}')\n",
    "print(f'recall = {rec}')\n",
    "print(f'f1 = {f1}')"
   ]
  },
  {
   "cell_type": "code",
   "execution_count": 36,
   "metadata": {},
   "outputs": [
    {
     "name": "stdout",
     "output_type": "stream",
     "text": [
      "[INFO] processing video c:\\Users\\lm555\\Desktop\\sleep_detection\\sleep_dataset\\awake\\1.mp4\n",
      "[INFO] processing video c:\\Users\\lm555\\Desktop\\sleep_detection\\sleep_dataset\\awake\\2.mp4\n",
      "[INFO] processing video c:\\Users\\lm555\\Desktop\\sleep_detection\\sleep_dataset\\awake\\3.mp4\n",
      "[INFO] processing video c:\\Users\\lm555\\Desktop\\sleep_detection\\sleep_dataset\\awake\\4.mp4\n",
      "[INFO] processing video c:\\Users\\lm555\\Desktop\\sleep_detection\\sleep_dataset\\awake\\5.mp4\n",
      "[INFO] processing video c:\\Users\\lm555\\Desktop\\sleep_detection\\sleep_dataset\\awake\\6.mp4\n",
      "[INFO] processing video c:\\Users\\lm555\\Desktop\\sleep_detection\\sleep_dataset\\awake\\7.mp4\n",
      "[INFO] processing video c:\\Users\\lm555\\Desktop\\sleep_detection\\sleep_dataset\\awake\\8.mp4\n",
      "[INFO] processing video c:\\Users\\lm555\\Desktop\\sleep_detection\\sleep_dataset\\awake\\9.mp4\n",
      "[INFO] processing video c:\\Users\\lm555\\Desktop\\sleep_detection\\sleep_dataset\\sleep\\1.mp4\n",
      "[INFO] processing video c:\\Users\\lm555\\Desktop\\sleep_detection\\sleep_dataset\\sleep\\2.mp4\n",
      "[INFO] processing video c:\\Users\\lm555\\Desktop\\sleep_detection\\sleep_dataset\\sleep\\3.mp4\n",
      "[INFO] processing video c:\\Users\\lm555\\Desktop\\sleep_detection\\sleep_dataset\\sleep\\4.mp4\n",
      "[INFO] processing video c:\\Users\\lm555\\Desktop\\sleep_detection\\sleep_dataset\\sleep\\5.mp4\n",
      "[INFO] processing video c:\\Users\\lm555\\Desktop\\sleep_detection\\sleep_dataset\\sleep\\6.mp4\n",
      "[INFO] processing video c:\\Users\\lm555\\Desktop\\sleep_detection\\sleep_dataset\\sleep\\7.mp4\n",
      "[INFO] processing video c:\\Users\\lm555\\Desktop\\sleep_detection\\sleep_dataset\\sleep\\8.mp4\n",
      "[INFO] processing video c:\\Users\\lm555\\Desktop\\sleep_detection\\sleep_dataset\\sleep\\9.mp4\n"
     ]
    },
    {
     "data": {
      "image/png": "[encoded data removed]",
      "text/plain": [
       "<Figure size 432x288 with 2 Axes>"
      ]
     },
     "metadata": {
      "needs_background": "light"
     },
     "output_type": "display_data"
    },
    {
     "name": "stdout",
     "output_type": "stream",
     "text": [
      "accuracy = 0.7222222222222222\n",
      "precision = 0.8333333333333334\n",
      "recall = 0.5555555555555556\n",
      "f1 = 0.6666666666666667\n"
     ]
    }
   ],
   "source": [
    "EYE_AR_THRESH = 0.25\n",
    "EYE_AR_CONSEC_FRAMES = 30\n",
    "\n",
    "tp = fp = fn = tn = 0\n",
    "\n",
    "for file in os.listdir(AWAKE_PATH):\n",
    "    path = os.path.join(AWAKE_PATH, file)\n",
    "    if sleep_detect(path, EYE_AR_THRESH, EYE_AR_CONSEC_FRAMES) == False:\n",
    "        tn += 1\n",
    "    else:\n",
    "        fp += 1\n",
    "for file in os.listdir(SLEEP_PATH):\n",
    "    path = os.path.join(SLEEP_PATH, file)\n",
    "    if sleep_detect(path, EYE_AR_THRESH, EYE_AR_CONSEC_FRAMES) == True:\n",
    "        tp += 1\n",
    "    else:\n",
    "        fn += 1\n",
    "\n",
    "cm = np.array(\n",
    "    [\n",
    "        [tp, fp],\n",
    "        [fn, tn]\n",
    "    ]\n",
    ")\n",
    "\n",
    "labels = [\"slept\", \"awake\"]\n",
    "\n",
    "disp = ConfusionMatrixDisplay(confusion_matrix=cm,\n",
    "                               display_labels=labels)\n",
    "                               \n",
    "disp.plot()\n",
    "plt.show()\n",
    "\n",
    "acc = (tp + tn) / (tp + fn + tn + fp)\n",
    "pre = tp / (tp + fp)\n",
    "rec = tp / (tp + fn)\n",
    "f1 = (2 * pre * rec) / (pre + rec)\n",
    "\n",
    "print(f'accuracy = {acc}')\n",
    "print(f'precision = {pre}')\n",
    "print(f'recall = {rec}')\n",
    "print(f'f1 = {f1}')"
   ]
  },
  {
   "cell_type": "code",
   "execution_count": null,
   "metadata": {},
   "outputs": [],
   "source": []
  }
 ],
 "metadata": {
  "interpreter": {
   "hash": "cc4491e2826726874d172ae5b91bb38e8d25655e4fd811a9760b8983483071b0"
  },
  "kernelspec": {
   "display_name": "Python 3.9.10 ('sleep_detection')",
   "language": "python",
   "name": "python3"
  },
  "language_info": {
   "codemirror_mode": {
    "name": "ipython",
    "version": 3
   },
   "file_extension": ".py",
   "mimetype": "text/x-python",
   "name": "python",
   "nbconvert_exporter": "python",
   "pygments_lexer": "ipython3",
   "version": "3.9.10"
  },
  "orig_nbformat": 4
 },
 "nbformat": 4,
 "nbformat_minor": 2
}
